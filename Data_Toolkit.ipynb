{
  "nbformat": 4,
  "nbformat_minor": 0,
  "metadata": {
    "colab": {
      "provenance": []
    },
    "kernelspec": {
      "name": "python3",
      "display_name": "Python 3"
    },
    "language_info": {
      "name": "python"
    }
  },
  "cells": [
    {
      "cell_type": "markdown",
      "source": [
        "1. What is NumPy, and why is it widely used in Python?\n",
        "- NumPy (Numerical Python) is a powerful Python library used for numerical computing. It provides support for large, multi-dimensional arrays and matrices, along with a collection of mathematical functions to operate on them efficiently.\n",
        "\n",
        "2.How does broadcasting work in NumPy?\n",
        "- How Does Broadcasting Work in NumPy?\n",
        "Broadcasting in NumPy allows element-wise operations on arrays of different shapes without the need for explicit looping. NumPy automatically expands smaller arrays to match the dimensions of larger ones.\n",
        "\n",
        "3. What is a Pandas DataFrame?\n",
        "-A Pandas DataFrame is a two-dimensional, tabular data structure in Python, similar to an Excel spreadsheet or an SQL table. It consists of rows and columns, where:\n",
        "\n",
        "Rows → Represent individual data points (indexed).\n",
        "\n",
        "Columns → Represent different attributes (labeled with column names).\n",
        "\n",
        "4. Explain the use of the groupby() method in Pandas?\n",
        "- The groupby() method in Pandas is used to split a dataset into groups based on one or more columns and then apply aggregate functions (like sum, mean, count, etc.) to those groups. It works similarly to SQL’s GROUP BY statement.\n",
        "\n",
        "5.  Why is Seaborn preferred for statistical visualizations?\n",
        "- Seaborn is preferred for statistical visualizations because it provides high-level, well-styled, and insightful visual representations of data. It is built on Matplotlib but offers simpler syntax and better default aesthetics, making it ideal for exploratory data analysis.\n",
        "\n",
        "6. What are the differences between NumPy arrays and Python lists?\n",
        "-NumPy arrays (numpy.ndarray) and Python lists (list) are both used to store collections of data, but they differ significantly in terms of performance, functionality, and memory efficiency.\n",
        "\n",
        "7. What is a heatmap, and when should it be used?\n",
        "-A heatmap is a data visualization technique that represents numerical data using color gradients. It is typically used to show the intensity, correlation, or distribution of data across a matrix or spatial representation.\n",
        "\n",
        "8. What does the term “vectorized operation” mean in NumPy?\n",
        "- A vectorized operation in NumPy refers to the process of applying mathematical or logical operations on entire arrays without using explicit loops. These operations are executed at a low level in highly optimized C code, making them much faster than standard Python loops.\n",
        "\n",
        "9. How does Matplotlib differ from Plotly?\n",
        "- Matplotlib and Plotly are both popular Python libraries for data visualization, but they differ in terms of functionality, interactivity, and use cases.\n",
        "\n",
        "10. What is the significance of hierarchical indexing in Pandas?\n",
        "- Hierarchical Indexing (or MultiIndexing) in Pandas allows multiple levels of indexing within a DataFrame or Series. This is useful for working with multi-dimensional data in a tabular format, enabling more efficient data organization, selection, and analysis.\n",
        "\n",
        "11. What is the role of Seaborn’s pairplot() function?\n",
        "-The pairplot() function in Seaborn is used to create a scatterplot matrix, which helps visualize the relationships between multiple numerical variables in a dataset. It is especially useful for exploratory data analysis (EDA) to detect patterns, correlations, and outliers.\n",
        "\n",
        "12.  What is the purpose of the describe() function in Pandas?\n",
        "- The describe() function in Pandas provides summary statistics for numerical and categorical columns in a DataFrame. It helps in exploratory data analysis (EDA) by giving key insights such as count, mean, standard deviation, min, max, and percentiles for numerical data, and count, unique values, most common value, and frequency for categorical data.\n",
        "\n",
        "13. Why is handling missing data important in Pandas?\n",
        "- Handling missing data is crucial in Pandas because missing values can lead to incorrect analysis, biased insights, and errors in machine learning models. Proper handling ensures data integrity, accuracy, and completeness for better decision-making.\n",
        "\n",
        "14. What are the benefits of using Plotly for data visualization?\n",
        "- Plotly is a powerful Python library for creating interactive, high-quality, and web-based visualizations. It is widely used for data analysis, dashboards, and real-time analytics.\n",
        "\n",
        "15. How does NumPy handle multidimensional arrays?\n",
        "- NumPy provides a powerful ndarray (N-dimensional array) object that allows efficient storage, manipulation, and operations on multidimensional arrays. It is optimized for performance, making it ideal for scientific computing and machine learning.\n",
        "\n",
        "16. What is the role of Bokeh in data visualization?\n",
        "- Bokeh is a Python library designed for creating interactive, web-ready visualizations that can handle large datasets efficiently. It allows users to build dynamic, scalable, and high-performance visualizations for dashboards, reports, and analytics applications.\n",
        "\n",
        "17. Explain the difference between apply() and map() in Pandas?\n",
        "- Both apply() and map() are used to apply functions to data in Pandas, but they work on different data structures and have distinct use cases.\n",
        "\n",
        "18.  What are some advanced features of NumPy?\n",
        "-NumPy is a powerful library for numerical computing in Python. Beyond basic array operations, it offers advanced features that improve efficiency, performance, and flexibility.\n",
        "\n",
        "19. How does Pandas simplify time series analysis?\n",
        "- Pandas provides powerful tools for time series analysis, making it easy to work with date-time data, resampling, shifting, and rolling statistics.\n",
        "\n",
        "20. What is the role of a pivot table in Pandas?\n",
        "-A pivot table in Pandas is used to summarize, aggregate, and reorganize data in a flexible way. It helps in analyzing large datasets by rearranging rows and columns, similar to Excel's pivot table.\n",
        "\n",
        "21. Why is NumPy’s array slicing faster than Python’s list slicing?\n",
        "-NumPy’s array slicing is significantly faster than Python’s list slicing due to the following reasons.\n",
        "\n",
        "22. What are some common use cases for Seaborn?\n",
        "- Seaborn is a powerful Python library built on top of Matplotlib, designed specifically for statistical data visualization. It provides beautiful, easy-to-use visualizations for exploring and analyzing datasets.\n",
        "\n"
      ],
      "metadata": {
        "id": "10zQ3fNpi1eW"
      }
    },
    {
      "cell_type": "markdown",
      "source": [
        "# **Practical**"
      ],
      "metadata": {
        "id": "oYuv2lmQrFjs"
      }
    },
    {
      "cell_type": "markdown",
      "source": [
        "1. How do you create a 2D NumPy array and calculate the sum of each row?"
      ],
      "metadata": {
        "id": "O9Epfz9VrMo-"
      }
    },
    {
      "cell_type": "code",
      "source": [
        "\n",
        "arr = np.array([[1, 2, 3],\n",
        "                [4, 5, 6],\n",
        "                [7, 8, 9]])\n",
        "\n",
        "print(\"2D NumPy Array:\")\n",
        "print(arr)\n"
      ],
      "metadata": {
        "id": "3zZlu4nerD25"
      },
      "execution_count": null,
      "outputs": []
    },
    {
      "cell_type": "markdown",
      "source": [
        "2.  Write a Pandas script to find the mean of a specific column in a DataFrame?"
      ],
      "metadata": {
        "id": "RP8ly9mmrU8g"
      }
    },
    {
      "cell_type": "code",
      "source": [
        "import pandas as pd\n",
        "\n",
        "# Sample DataFrame\n",
        "data = {'Name': ['Alice', 'Bob', 'Charlie', 'David'],\n",
        "        'Age': [25, 30, 35, 40],\n",
        "        'Salary': [50000, 60000, 75000, 80000]}\n",
        "\n",
        "df = pd.DataFrame(data)\n",
        "\n",
        "print(\"DataFrame:\")\n",
        "print(df)\n"
      ],
      "metadata": {
        "id": "2v1-k_DGrbLw"
      },
      "execution_count": null,
      "outputs": []
    },
    {
      "cell_type": "markdown",
      "source": [
        "3.  Create a scatter plot using Matplotlib?"
      ],
      "metadata": {
        "id": "xap0FTRErcIy"
      }
    },
    {
      "cell_type": "code",
      "source": [
        "import matplotlib.pyplot as plt\n",
        "import numpy as np\n",
        "\n",
        "# Sample Data\n",
        "x = np.array([10, 20, 30, 40, 50])\n",
        "y = np.array([100, 200, 250, 400, 600])\n",
        "\n",
        "# Create Scatter Plot\n",
        "plt.scatter(x, y, color='blue', marker='o', s=100, alpha=0.7)\n",
        "\n",
        "# Labels and Title\n",
        "plt.xlabel(\"X Values\")\n",
        "plt.ylabel(\"Y Values\")\n",
        "plt.title(\"Scatter Plot Example\")\n",
        "\n",
        "# Show the Plot\n",
        "plt.show\n"
      ],
      "metadata": {
        "id": "6751KqtCrjaL"
      },
      "execution_count": null,
      "outputs": []
    },
    {
      "cell_type": "markdown",
      "source": [
        "4.  How do you calculate the correlation matrix using Seaborn and visualize it with a heatmap?"
      ],
      "metadata": {
        "id": "jke5nL8Drlfs"
      }
    },
    {
      "cell_type": "code",
      "source": [
        "import pandas as pd\n",
        "import seaborn as sns\n",
        "import matplotlib.pyplot as plt\n"
      ],
      "metadata": {
        "id": "8yXh0IWKrlJb"
      },
      "execution_count": null,
      "outputs": []
    },
    {
      "cell_type": "markdown",
      "source": [
        "5.  Generate a bar plot using Plotly?"
      ],
      "metadata": {
        "id": "MP75c73WBrJg"
      }
    },
    {
      "cell_type": "code",
      "source": [
        "import plotly.express as px\n",
        "import pandas as pd\n",
        "\n",
        "# Sample data\n",
        "data = {'Category': ['A', 'B', 'C', 'D', 'E'], 'Values': [50, 70, 30, 90, 60]}\n",
        "df = pd.DataFrame(data)\n",
        "\n",
        "# Create bar plot\n",
        "fig = px.bar(df, x='Category', y='Values', color='Category', title=\"Bar Plot Example\")\n",
        "\n",
        "# Show plot\n",
        "fig.show()\n"
      ],
      "metadata": {
        "id": "D6ZeyZcDB7Fw"
      },
      "execution_count": null,
      "outputs": []
    },
    {
      "cell_type": "markdown",
      "source": [
        "6. Create a DataFrame and add a new column based on an existing column?"
      ],
      "metadata": {
        "id": "LS3uRlNsB8U5"
      }
    },
    {
      "cell_type": "code",
      "source": [
        "import pandas as pd\n",
        "\n",
        "# Create a DataFrame\n",
        "data = {'Name': ['Alice', 'Bob', 'Charlie', 'David'],\n",
        "        'Age': [25, 30, 35, 40]}\n",
        "\n",
        "df = pd.DataFrame(data)\n",
        "\n",
        "# Add a new column based on 'Age'\n",
        "df['Age Group'] = df['Age'].apply(lambda x: 'Young' if x < 30 else 'Adult')\n",
        "\n",
        "# Display the DataFrame\n",
        "print(df)\n"
      ],
      "metadata": {
        "colab": {
          "base_uri": "https://localhost:8080/"
        },
        "id": "15gKaDJlCDyI",
        "outputId": "111c6d93-0c27-4c9b-da38-d08ac881e8cc"
      },
      "execution_count": 1,
      "outputs": [
        {
          "output_type": "stream",
          "name": "stdout",
          "text": [
            "      Name  Age Age Group\n",
            "0    Alice   25     Young\n",
            "1      Bob   30     Adult\n",
            "2  Charlie   35     Adult\n",
            "3    David   40     Adult\n"
          ]
        }
      ]
    },
    {
      "cell_type": "markdown",
      "source": [
        "7. Write a program to perform element-wise multiplication of two NumPy arrays?"
      ],
      "metadata": {
        "id": "GLiJJ-JqCP5t"
      }
    },
    {
      "cell_type": "code",
      "source": [
        "import numpy as np\n",
        "\n",
        "# Define two NumPy arrays\n",
        "A = np.array([1, 2, 3, 4, 5])\n",
        "B = np.array([10, 20, 30, 40, 50])\n",
        "\n",
        "# Perform element-wise multiplication\n",
        "result = A * B\n",
        "\n",
        "# Print the result\n",
        "print(\"Element-wise multiplication result:\", result)\n"
      ],
      "metadata": {
        "id": "vVFrd3YDCOph"
      },
      "execution_count": null,
      "outputs": []
    },
    {
      "cell_type": "markdown",
      "source": [
        "8. Create a line plot with multiple lines using Matplotlib?"
      ],
      "metadata": {
        "id": "UIQCU8jZDh0n"
      }
    },
    {
      "cell_type": "code",
      "source": [
        "import matplotlib.pyplot as plt\n",
        "import numpy as np\n",
        "\n",
        "# Define x values\n",
        "x = np.linspace(0, 10, 100)\n",
        "\n",
        "# Define multiple y values (functions of x)\n",
        "y1 = np.sin(x)\n",
        "y2 = np.cos(x)\n",
        "y3 = np.tan(x)\n",
        "\n",
        "# Create the plot\n",
        "plt.figure(figsize=(8, 6))\n",
        "plt.plot(x, y1, label='sin(x)', color='b')\n",
        "plt.plot(x, y2, label='cos(x)', color='r')\n",
        "plt.plot(x, y3, label='tan(x)', color='g', linestyle='dashed')\n",
        "\n",
        "# Add labels and title\n",
        "plt.xlabel('X values')\n",
        "plt.ylabel('Y values')\n",
        "plt.title('Multiple Line Plot')\n",
        "plt.legend()\n",
        "plt.grid(True)\n",
        "\n",
        "# Show the plot\n",
        "plt.show()"
      ],
      "metadata": {
        "id": "p6y93Y54DmVo"
      },
      "execution_count": null,
      "outputs": []
    },
    {
      "cell_type": "markdown",
      "source": [
        "9. Generate a Pandas DataFrame and filter rows where a column value is greater than a threshold?"
      ],
      "metadata": {
        "id": "SIL_a_LIDvF5"
      }
    },
    {
      "cell_type": "code",
      "source": [
        "import pandas as pd\n",
        "\n",
        "# Create a sample DataFrame\n",
        "data = {\n",
        "    'Name': ['Alice', 'Bob', 'Charlie', 'David', 'Eve'],\n",
        "    'Age': [25, 30, 35, 40, 22],\n",
        "    'Score': [85, 90, 88, 76, 95]\n",
        "}\n",
        "df = pd.DataFrame(data)\n",
        "\n",
        "# Define the threshold\n",
        "threshold = 85\n",
        "\n",
        "# Filter rows where 'Score' is greater than the threshold\n",
        "filtered_df = df[df['Score'] > threshold]\n",
        "\n",
        "# Print the filtered DataFrame\n",
        "print(\"Filtered DataFrame:\")\n",
        "print(filtered_df)\n"
      ],
      "metadata": {
        "id": "_UCmUE8kD03Y"
      },
      "execution_count": null,
      "outputs": []
    },
    {
      "cell_type": "markdown",
      "source": [
        "10. Create a histogram using Seaborn to visualize a distribution?"
      ],
      "metadata": {
        "id": "lJP4CUj2D10E"
      }
    },
    {
      "cell_type": "code",
      "source": [
        "import seaborn as sns\n",
        "import matplotlib.pyplot as plt\n",
        "import numpy as np\n",
        "\n",
        "# Generate random data\n",
        "np.random.seed(42)\n",
        "data = np.random.randn(1000)  # 1000 random values from a normal distribution\n",
        "\n",
        "# Create a histogram using Seaborn\n",
        "plt.figure(figsize=(8, 6))\n",
        "sns.histplot(data, bins=30, kde=True, color='blue')\n",
        "\n",
        "# Add labels and title\n",
        "plt.xlabel('Value')\n",
        "plt.ylabel('Frequency')\n",
        "plt.title('Histogram of Random Data')\n",
        "\n",
        "# Show the plot\n",
        "plt.show()\n"
      ],
      "metadata": {
        "id": "xtBb7rHiD9w0"
      },
      "execution_count": null,
      "outputs": []
    },
    {
      "cell_type": "markdown",
      "source": [
        "11. Perform matrix multiplication using NumPyA"
      ],
      "metadata": {
        "id": "wj7gwGVvD63O"
      }
    },
    {
      "cell_type": "code",
      "source": [
        "import numpy as np\n",
        "\n",
        "# Define two matrices\n",
        "A = np.array([[1, 2, 3], [4, 5, 6], [7, 8, 9]])\n",
        "B = np.array([[9, 8, 7], [6, 5, 4], [3, 2, 1]])\n",
        "\n",
        "# Perform matrix multiplication\n",
        "result = np.dot(A, B)\n",
        "\n",
        "# Print the result\n",
        "print(\"Matrix Multiplication Result:\")\n",
        "print(result)"
      ],
      "metadata": {
        "id": "tL7EBE7iERlb"
      },
      "execution_count": null,
      "outputs": []
    },
    {
      "cell_type": "markdown",
      "source": [
        "12. Use Pandas to load a CSV file and display its first 5 rows?"
      ],
      "metadata": {
        "id": "wRVhaiFmEWt0"
      }
    },
    {
      "cell_type": "code",
      "source": [
        "import pandas as pd\n",
        "\n",
        "# Load a CSV file into a DataFrame\n",
        "df = pd.read_csv('data.csv')  # Replace 'data.csv' with your actual file path\n",
        "\n",
        "# Display the first 5 rows of the DataFrame\n",
        "print(\"First 5 rows of the DataFrame:\")\n",
        "print(df.head())\n"
      ],
      "metadata": {
        "id": "PY2lSeLFEfnw"
      },
      "execution_count": null,
      "outputs": []
    },
    {
      "cell_type": "markdown",
      "source": [
        "13. Create a 3D scatter plot using Plotly"
      ],
      "metadata": {
        "id": "-C0qcIMFEg9S"
      }
    },
    {
      "cell_type": "code",
      "source": [
        "import plotly.express as px\n",
        "import numpy as np\n",
        "import pandas as pd\n",
        "\n",
        "# Generate random 3D data\n",
        "np.random.seed(42)\n",
        "data = {\n",
        "    'x': np.random.randn(100),\n",
        "    'y': np.random.randn(100),\n",
        "    'z': np.random.randn(100)\n",
        "}\n",
        "df = pd.DataFrame(data)\n",
        "\n",
        "# Create a 3D scatter plot\n",
        "fig = px.scatter_3d(df, x='x', y='y', z='z', title='3D Scatter Plot')\n",
        "\n",
        "# Show the plot\n",
        "fig.show()"
      ],
      "metadata": {
        "id": "ZTwQju_oEmXD"
      },
      "execution_count": null,
      "outputs": []
    }
  ]
}